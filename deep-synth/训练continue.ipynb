{
 "cells": [
  {
   "cell_type": "code",
   "execution_count": 1,
   "id": "4894f6ab",
   "metadata": {},
   "outputs": [],
   "source": [
    "import argparse\n",
    "import torch\n",
    "import torch.nn as nn\n",
    "import torch.optim as optim\n",
    "from torch.autograd import Variable\n",
    "from continue_dataset import ShouldContinueDataset\n",
    "import math\n",
    "import models\n",
    "from models import *\n",
    "import os\n",
    "import os.path\n",
    "import numpy as np\n",
    "import utils"
   ]
  },
  {
   "cell_type": "code",
   "execution_count": 2,
   "id": "2c71f21d",
   "metadata": {},
   "outputs": [
    {
     "data": {
      "text/plain": [
       "_StoreTrueAction(option_strings=['--use-count'], dest='use_count', nargs=0, const=True, default=False, type=None, choices=None, help=None, metavar=None)"
      ]
     },
     "execution_count": 2,
     "metadata": {},
     "output_type": "execute_result"
    }
   ],
   "source": [
    "\"\"\"\n",
    "Train the network that predicts whether we should continue adding objects\n",
    "\"\"\"\n",
    "parser = argparse.ArgumentParser(description='Should Continue')\n",
    "parser.add_argument('--data-dir', type=str, default=\"bedroom\", metavar='S')\n",
    "parser.add_argument('--num-workers', type=int, default=6, metavar='N')\n",
    "parser.add_argument('--last-epoch', type=int, default=-1, metavar='N')\n",
    "parser.add_argument('--train-size', type=int, default=6400, metavar='N')\n",
    "parser.add_argument('--save-dir', type=str, default=\"train/bedroom\", metavar='S')\n",
    "parser.add_argument('--ablation', type=str, default=None, metavar='S')\n",
    "parser.add_argument('--lr', type=float, default=0.001, metavar='N')\n",
    "parser.add_argument('--eps', type=float, default=1e-6, metavar='N')\n",
    "parser.add_argument('--use-count', action='store_true', default=False)"
   ]
  },
  {
   "cell_type": "code",
   "execution_count": 3,
   "id": "8c1a6a05",
   "metadata": {},
   "outputs": [],
   "source": [
    "args = parser.parse_args(\"\")"
   ]
  },
  {
   "cell_type": "code",
   "execution_count": 4,
   "id": "21afeb7c",
   "metadata": {},
   "outputs": [],
   "source": [
    "save_dir = args.save_dir\n",
    "utils.ensuredir(save_dir)\n",
    "learning_rate = args.lr\n",
    "batch_size = 16"
   ]
  },
  {
   "cell_type": "code",
   "execution_count": 11,
   "id": "aa4cabda",
   "metadata": {},
   "outputs": [],
   "source": [
    "suncg_root = \"/home/ubuntu/research/suncg/\""
   ]
  },
  {
   "cell_type": "code",
   "execution_count": 12,
   "id": "cb74afdf",
   "metadata": {},
   "outputs": [],
   "source": [
    "with open(f\"{suncg_root}/{args.data_dir}/final_categories_frequency\", \"r\") as f:\n",
    "    lines = f.readlines()\n",
    "num_categories = len(lines)-2"
   ]
  },
  {
   "cell_type": "code",
   "execution_count": 13,
   "id": "35b83ea2",
   "metadata": {},
   "outputs": [
    {
     "data": {
      "text/plain": [
       "29"
      ]
     },
     "execution_count": 13,
     "metadata": {},
     "output_type": "execute_result"
    }
   ],
   "source": [
    "num_categories"
   ]
  },
  {
   "cell_type": "code",
   "execution_count": 15,
   "id": "56bc2fb4",
   "metadata": {},
   "outputs": [],
   "source": [
    "if args.ablation is None:\n",
    "    num_input_channels = num_categories+8\n",
    "elif args.ablation == \"basic\":\n",
    "    num_input_channels = 6\n",
    "elif args.ablation == \"depth\":\n",
    "    num_input_channels = 1\n",
    "else:\n",
    "    raise NotImplementedError"
   ]
  },
  {
   "cell_type": "code",
   "execution_count": null,
   "id": "72d7b665",
   "metadata": {},
   "outputs": [],
   "source": []
  }
 ],
 "metadata": {
  "kernelspec": {
   "display_name": "Environment (conda_ll)",
   "language": "python",
   "name": "conda_ll"
  },
  "language_info": {
   "codemirror_mode": {
    "name": "ipython",
    "version": 3
   },
   "file_extension": ".py",
   "mimetype": "text/x-python",
   "name": "python",
   "nbconvert_exporter": "python",
   "pygments_lexer": "ipython3",
   "version": "3.9.4"
  }
 },
 "nbformat": 4,
 "nbformat_minor": 5
}
