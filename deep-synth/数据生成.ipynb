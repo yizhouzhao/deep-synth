{
 "cells": [
  {
   "cell_type": "code",
   "execution_count": 1,
   "id": "89de072d",
   "metadata": {},
   "outputs": [],
   "source": [
    "\"\"\"\n",
    "Creates all the necessary dataset from raw SUNCG\n",
    "Make sure to read README\n",
    "IMPORTANT: make sure you don't have a directory named `temp`\n",
    "under SCENESYNTH_ROOT_PATH, since that will be removed relentlessly\n",
    "\"\"\"\n",
    "#Didn't implement any checkpoints, comment out parts as you wish...\n",
    "import shutil\n",
    "from utils import get_data_root_dir\n",
    "from data.object import parse_objects\n"
   ]
  },
  {
   "cell_type": "code",
   "execution_count": 2,
   "id": "db75a33f",
   "metadata": {},
   "outputs": [],
   "source": [
    "#Didn't implement any checkpoints, comment out parts as you wish...\n",
    "import shutil\n",
    "from utils import get_data_root_dir\n",
    "from data.object import parse_objects\n",
    "\n",
    "# add suncg \n",
    "import os\n",
    "sungcg_root_dir = \"/home/ubuntu/research/suncg\"\n",
    "os.environ[\"SCENESYNTH_DATA_PATH\"] = sungcg_root_dir\n",
    "\n",
    "root_dir = get_data_root_dir()"
   ]
  },
  {
   "cell_type": "code",
   "execution_count": 3,
   "id": "2e452587",
   "metadata": {},
   "outputs": [],
   "source": [
    "# parse_objects()\n",
    "# from data.dataset import create_dataset\n",
    "# print(\"Creating initial dataset...\")\n",
    "# create_dataset()\n"
   ]
  },
  {
   "cell_type": "code",
   "execution_count": 4,
   "id": "b3db7c04",
   "metadata": {},
   "outputs": [],
   "source": [
    "from scene_filter import get_filter, run_filter\n",
    "from model_prior import ModelPrior"
   ]
  },
  {
   "cell_type": "code",
   "execution_count": 5,
   "id": "4a795418",
   "metadata": {},
   "outputs": [],
   "source": [
    "# print(\"Extracting houses with acceptable quality...\")\n",
    "# filter_description = [(\"good_house\",)]\n",
    "# run_filter(filter_description, \"main\", \"good\", 1, 1, 0, 1, 0)\n",
    "# print()"
   ]
  },
  {
   "cell_type": "code",
   "execution_count": 6,
   "id": "29f0b95a",
   "metadata": {},
   "outputs": [
    {
     "name": "stdout",
     "output_type": "stream",
     "text": [
      "Creating bedroom dataset...\n",
      "Loading part 32...\n",
      "Printing Results...\n",
      "\n",
      "There are 32243 non-empty rooms in the selection.\n",
      "There are 256235 objects in the rooms.\n",
      "On average, there are 7.947 objects for each room\n",
      "\n",
      "There are 158 fine categories among these objects.\n",
      "\n",
      "There are 79 coarse categories among these objects.\n",
      "\n",
      "There are 157 final categories among these objects.\n",
      "\n",
      "There are 2247 unique models among these objects.\n",
      "Loading part 0...\r"
     ]
    }
   ],
   "source": [
    "print(\"Creating bedroom dataset...\")\n",
    "filter_description = [(\"room_type\", [\"Bedroom\"]), (\"floor_node\",), (\"renderable\",)]\n",
    "run_filter(filter_description, \"good\", \"temp\", 1, 1, 0, 1, 0)\n",
    "filter_description = [(\"bedroom\", \"final\"), (\"collision\",)]\n",
    "run_filter(filter_description, \"temp\", \"bedroom\", 1, 1, 1, 0, 1)\n",
    "print()\n",
    "print(\"Creating model prior for bedroom...\")\n",
    "mp = ModelPrior()\n",
    "mp.learn(\"bedroom\")\n",
    "mp.save()\n",
    "print()\n",
    "shutil.rmtree(f\"{root_dir}/temp\")"
   ]
  },
  {
   "cell_type": "code",
   "execution_count": 7,
   "id": "0b90fa74",
   "metadata": {},
   "outputs": [],
   "source": [
    "print(\"Creating living room dataset...\")\n",
    "filter_description = [(\"room_type\", [\"Living_Room\"]), (\"floor_node\",), (\"renderable\",)]\n",
    "run_filter(filter_description, \"good\", \"temp\", 1, 1, 0, 1, 0)\n",
    "filter_description = [(\"livingroom\", \"final\"), (\"collision\",)]\n",
    "run_filter(filter_description, \"temp\", \"living\", 1, 1, 1, 0, 1)\n",
    "print()\n",
    "print(\"Creating model prior for living room...\")\n",
    "mp = ModelPrior()\n",
    "mp.learn(\"living\")\n",
    "mp.save()\n",
    "print()\n",
    "shutil.rmtree(f\"{root_dir}/temp\")"
   ]
  },
  {
   "cell_type": "code",
   "execution_count": 8,
   "id": "ca618f6b",
   "metadata": {},
   "outputs": [],
   "source": [
    "print(\"Creating office dataset...\")\n",
    "filter_description = [(\"room_type\", [\"Office\"]), (\"floor_node\",), (\"renderable\",)]\n",
    "run_filter(filter_description, \"good\", \"temp\", 1, 1, 0, 1, 0)\n",
    "filter_description = [(\"office\", \"final\"), (\"collision\",)]\n",
    "run_filter(filter_description, \"temp\", \"office\", 1, 1, 1, 0, 1)\n",
    "print()\n",
    "print(\"Creating model prior for office...\")\n",
    "mp = ModelPrior()\n",
    "mp.learn(\"office\")\n",
    "mp.save()\n",
    "print()\n",
    "shutil.rmtree(f\"{root_dir}/temp\")"
   ]
  },
  {
   "cell_type": "code",
   "execution_count": null,
   "id": "1df967a9",
   "metadata": {},
   "outputs": [],
   "source": []
  }
 ],
 "metadata": {
  "kernelspec": {
   "display_name": "Environment (conda_ll)",
   "language": "python",
   "name": "conda_ll"
  },
  "language_info": {
   "codemirror_mode": {
    "name": "ipython",
    "version": 3
   },
   "file_extension": ".py",
   "mimetype": "text/x-python",
   "name": "python",
   "nbconvert_exporter": "python",
   "pygments_lexer": "ipython3",
   "version": "3.9.4"
  }
 },
 "nbformat": 4,
 "nbformat_minor": 5
}
